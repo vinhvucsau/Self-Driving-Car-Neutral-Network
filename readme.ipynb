{
 "cells": [
  {
   "cell_type": "code",
   "execution_count": 2,
   "metadata": {},
   "outputs": [
    {
     "ename": "SyntaxError",
     "evalue": "invalid syntax (1260354973.py, line 2)",
     "output_type": "error",
     "traceback": [
      "\u001b[1;36m  Cell \u001b[1;32mIn[2], line 2\u001b[1;36m\u001b[0m\n\u001b[1;33m    Description: This project uses the unetLstm deep learning convolutional neural network to help cars recognize their lane along with yolov8 to identify signs and vehicle owners.\u001b[0m\n\u001b[1;37m                      ^\u001b[0m\n\u001b[1;31mSyntaxError\u001b[0m\u001b[1;31m:\u001b[0m invalid syntax\n"
     ]
    }
   ],
   "source": [
    "# Self-Driving-Car-Neutral-Network\n",
    "Description: This project uses the unetLstm deep learning convolutional neural network to help cars recognize their lane along with yolov8 to identify signs and vehicle owners."
   ]
  },
  {
   "cell_type": "markdown",
   "metadata": {},
   "source": [
    "# Self-Driving-Car-Neutral-Network\n",
    "\n",
    "\n",
    "<!-- TABLE OF CONTENTS -->\n",
    "<details>\n",
    "  <summary>Table of Contents</summary>\n",
    "  <ol>\n",
    "    <li>\n",
    "      <a href=\"#about-the-project\">About The Project</a>\n",
    "    </li>\n",
    "    <li>\n",
    "      <a href=\"#built-with\">Built With</a>\n",
    "      <ul>\n",
    "        <li><a href=\"#framework-and-library\">Framework and library</a></li>\n",
    "        <li><a href=\"#hardware\">Hardware</a></li>\n",
    "      </ul>\n",
    "    </li>\n",
    "    <li><a href=\"#usage\">Usage</a></li>\n",
    "    <li><a href=\"#contact\">Contact</a></li>\n",
    "    <li><a href=\"#acknowledgments\">Acknowledgments</a></li>\n",
    "  </ol>\n",
    "</details>\n",
    "\n",
    "\n",
    "\n",
    "<!-- ABOUT THE PROJECT -->\n",
    "## About The Project\n",
    "### This project uses the deep learning convolutional neural network <b>U-Net-LSTM</b> to help cars recognize their lane along with <b>YOLOv8</b> to identify signs and vehicle owners.\n",
    "\n",
    "## Built With\n",
    "\n",
    "### Framework and library\n",
    "\n",
    "* Pytorch\n",
    "* Python\n",
    "* Opencv\n",
    "* Pyfirmata\n",
    "* Socket\n",
    "\n",
    "### Hardware\n",
    "\n",
    "_Below is an example of how you can instruct your audience on installing and setting up your app. This template doesn't rely on any external dependencies or services._\n",
    "\n",
    "1. Get a free API Key at [https://example.com](https://example.com)\n",
    "2. Clone the repo\n",
    "   ```sh\n",
    "   git clone https://github.com/your_username_/Project-Name.git\n",
    "   ```\n",
    "3. Install NPM packages\n",
    "   ```sh\n",
    "   npm install\n",
    "   ```\n",
    "4. Enter your API in `config.js`\n",
    "   ```js\n",
    "   const API_KEY = 'ENTER YOUR API';\n",
    "   ```\n",
    "\n",
    "<p align=\"right\">(<a href=\"#readme-top\">back to top</a>)</p>\n"
   ]
  },
  {
   "cell_type": "markdown",
   "metadata": {},
   "source": [
    "# Self-Driving-Car-Neutral-Network\n",
    "Description: This project uses the unetLstm deep learning convolutional neural network to help cars recognize their lane along with yolov8 to identify signs and vehicle owners."
   ]
  }
 ],
 "metadata": {
  "kernelspec": {
   "display_name": "Python 3",
   "language": "python",
   "name": "python3"
  },
  "language_info": {
   "codemirror_mode": {
    "name": "ipython",
    "version": 3
   },
   "file_extension": ".py",
   "mimetype": "text/x-python",
   "name": "python",
   "nbconvert_exporter": "python",
   "pygments_lexer": "ipython3",
   "version": "3.11.7"
  }
 },
 "nbformat": 4,
 "nbformat_minor": 2
}
